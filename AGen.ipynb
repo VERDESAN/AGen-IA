{
 "cells": [
  {
   "cell_type": "markdown",
   "id": "ca2798d1",
   "metadata": {},
   "source": [
    "# U4_ALGORITMO GENETICO"
   ]
  },
  {
   "cell_type": "code",
   "execution_count": 2,
   "id": "c43e651b",
   "metadata": {},
   "outputs": [],
   "source": [
    "import numpy\n",
    "import functools\n",
    "import operator\n",
    "import imageio\n",
    "import numpy\n",
    "import matplotlib.pyplot\n",
    "import pygad"
   ]
  },
  {
   "cell_type": "code",
   "execution_count": 3,
   "id": "3507b9a8",
   "metadata": {},
   "outputs": [],
   "source": [
    "#IMPORT IMAGE\n",
    "targ = imageio.v2.imread('luffy.jpg')\n",
    "targ = numpy.asarray(targ/255, dtype=float)"
   ]
  },
  {
   "cell_type": "markdown",
   "id": "9afcd1d0",
   "metadata": {},
   "source": [
    "target image\n",
    "<img src=\"luffy.jpg\"  width=\"200\" height=\"200\">"
   ]
  },
  {
   "cell_type": "code",
   "execution_count": 4,
   "id": "6f478edc",
   "metadata": {},
   "outputs": [],
   "source": [
    "#GARI MODULE\n",
    "def img2chromosome(img_arr):\n",
    "    return numpy.reshape(a=img_arr, newshape=(functools.reduce(operator.mul, img_arr.shape)))\n",
    "\n",
    "def chromosome2img(vector, shape):\n",
    "    if len(vector) != functools.reduce(operator.mul, shape):\n",
    "        raise ValueError(\"A vector of length {vector_length} into an array of shape {shape}.\".format(vector_length=len(vector), shape=shape))\n",
    "\n",
    "    return numpy.reshape(a=vector, newshape=shape)"
   ]
  },
  {
   "cell_type": "code",
   "execution_count": 5,
   "id": "78a49f48",
   "metadata": {},
   "outputs": [],
   "source": [
    "#FITNESS MODULE\n",
    "target_chromosome = img2chromosome(targ)\n",
    "\n",
    "def fitness_fun(solution, solution_idx):\n",
    "    fitness = numpy.sum(numpy.abs(target_chromosome-solution))\n",
    "\n",
    "    # Negating the fitness value to make it increasing rather than decreasing.\n",
    "    fitness = numpy.sum(target_chromosome) - fitness\n",
    "    return fitness"
   ]
  },
  {
   "cell_type": "code",
   "execution_count": 6,
   "id": "7b6fc72e",
   "metadata": {},
   "outputs": [],
   "source": [
    "#INSTANCE PYGAD\n",
    "ga_instance = pygad.GA(num_generations=2000,\n",
    "                       num_parents_mating=10,    #MATING POOL SIZE\n",
    "                       fitness_func=fitness_fun,\n",
    "                       sol_per_pop=20,           #POPULATION SIZE\n",
    "                       num_genes=targ.size,\n",
    "                       init_range_low=0.0,\n",
    "                       init_range_high=1.0,\n",
    "                       mutation_percent_genes=0.01,\n",
    "                       mutation_type=\"random\",\n",
    "                       mutation_by_replacement=True,\n",
    "                       random_mutation_min_val=0.0,\n",
    "                       random_mutation_max_val=1.0)"
   ]
  },
  {
   "cell_type": "code",
   "execution_count": null,
   "id": "7db4836d",
   "metadata": {},
   "outputs": [],
   "source": [
    "ga_instance.run()"
   ]
  },
  {
   "cell_type": "code",
   "execution_count": null,
   "id": "f64b034f",
   "metadata": {},
   "outputs": [],
   "source": [
    "ga_instance.plot_result()"
   ]
  },
  {
   "cell_type": "code",
   "execution_count": null,
   "id": "9a3ba136",
   "metadata": {},
   "outputs": [],
   "source": [
    "# Returning the details of the best solution.\n",
    "solution, solution_fitness, solution_idx = ga_instance.best_solution()\n",
    "print(\"Fitness value of the best solution = {solution_fitness}\".format(solution_fitness=solution_fitness))\n",
    "print(\"Index of the best solution : {solution_idx}\".format(solution_idx=solution_idx))\n",
    "\n",
    "if ga_instance.best_solution_generation != -1:\n",
    "    print(\"Best fitness value reached after {best_solution_generation} generations.\".format(best_solution_generation=ga_instance.best_solution_generation))\n",
    "\n",
    "result = gari.chromosome2img(solution, target_im.shape)\n",
    "matplotlib.pyplot.imshow(result)\n",
    "matplotlib.pyplot.title(\"PyGAD & GARI for Reproducing Images\")\n",
    "matplotlib.pyplot.show()"
   ]
  },
  {
   "cell_type": "code",
   "execution_count": null,
   "id": "c8d51959",
   "metadata": {},
   "outputs": [],
   "source": []
  }
 ],
 "metadata": {
  "kernelspec": {
   "display_name": "Python 3 (ipykernel)",
   "language": "python",
   "name": "python3"
  },
  "language_info": {
   "codemirror_mode": {
    "name": "ipython",
    "version": 3
   },
   "file_extension": ".py",
   "mimetype": "text/x-python",
   "name": "python",
   "nbconvert_exporter": "python",
   "pygments_lexer": "ipython3",
   "version": "3.9.13"
  }
 },
 "nbformat": 4,
 "nbformat_minor": 5
}
